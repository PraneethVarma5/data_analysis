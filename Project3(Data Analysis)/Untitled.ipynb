{
 "cells": [
  {
   "cell_type": "code",
   "execution_count": 13,
   "id": "c6bacfe5-398f-4149-a49b-366dccaa1e34",
   "metadata": {},
   "outputs": [],
   "source": [
    "#!pip install tensorflow==2.16.1 tensorflow-gpu==2.16.1 opencv-python matplotlib\n"
   ]
  },
  {
   "cell_type": "code",
   "execution_count": 5,
   "id": "2af150ed-087a-45ec-a1fd-6891bb276ce9",
   "metadata": {},
   "outputs": [],
   "source": [
    "import pandas as pd\n",
    "import cv2\n",
    "import os\n",
    "import random\n",
    "import numpy as np\n",
    "from matplotlib import pyplot as plt"
   ]
  },
  {
   "cell_type": "code",
   "execution_count": 9,
   "id": "6f0d4878-efc5-4db2-bb59-6799a5af1a0c",
   "metadata": {},
   "outputs": [],
   "source": [
    "from tensorflow.keras.models import Model\n",
    "from tensorflow.keras.layers import Layer,Conv2D,Dense,MaxPooling2D,Input,Flatten\n",
    "import tensorflow as tf"
   ]
  },
  {
   "cell_type": "code",
   "execution_count": 10,
   "id": "3dada3c1-6b9e-4561-b193-aca3d8047604",
   "metadata": {},
   "outputs": [],
   "source": [
    "gpus=tf.config.experimental.list_physical_devices('GPU')\n",
    "for gpu in gpus:\n",
    "    tf.config.experimental.set_memory_growth(gpu,True)"
   ]
  },
  {
   "cell_type": "code",
   "execution_count": 11,
   "id": "6403def9-8a11-4a63-a082-52b9184f2bfe",
   "metadata": {},
   "outputs": [],
   "source": [
    "POS_PATH=os.path.join('data','positive')\n",
    "NEG_PATH=os.path.join('data','negative')\n",
    "ANC_PATH=os.path.join('data','anchor')"
   ]
  },
  {
   "cell_type": "code",
   "execution_count": 12,
   "id": "63701b38-410c-4e75-a9d2-7a1f963f55ed",
   "metadata": {},
   "outputs": [],
   "source": [
    "os.makedirs(POS_PATH)\n",
    "os.makedirs(NEG_PATH)\n",
    "os.makedirs(ANC_PATH)"
   ]
  }
 ],
 "metadata": {
  "kernelspec": {
   "display_name": "Python 3 (ipykernel)",
   "language": "python",
   "name": "python3"
  },
  "language_info": {
   "codemirror_mode": {
    "name": "ipython",
    "version": 3
   },
   "file_extension": ".py",
   "mimetype": "text/x-python",
   "name": "python",
   "nbconvert_exporter": "python",
   "pygments_lexer": "ipython3",
   "version": "3.12.3"
  }
 },
 "nbformat": 4,
 "nbformat_minor": 5
}
